{
 "cells": [
  {
   "cell_type": "code",
   "execution_count": 1,
   "metadata": {},
   "outputs": [],
   "source": [
    "import pandas as pd\n",
    "import numpy as np\n",
    "import scipy.stats as stats\n",
    "import seaborn as sns\n",
    "import matplotlib.pyplot as plt"
   ]
  },
  {
   "cell_type": "code",
   "execution_count": 3,
   "metadata": {},
   "outputs": [],
   "source": [
    "df=pd.read_csv(\"fifa_stats.csv\")"
   ]
  },
  {
   "cell_type": "code",
   "execution_count": 5,
   "metadata": {},
   "outputs": [
    {
     "data": {
      "text/plain": [
       "Name                         0\n",
       "Age                          0\n",
       "Nationality                  0\n",
       "Overall_rating               0\n",
       "Potential                    0\n",
       "Club                        19\n",
       "Preferred Foot               0\n",
       "International Reputation     0\n",
       "Weak Foot                    0\n",
       "Skill Moves                  0\n",
       "Work Rate                    0\n",
       "Position                     0\n",
       "Jersey Number                0\n",
       "Height                       0\n",
       "Weight                       0\n",
       "dtype: int64"
      ]
     },
     "execution_count": 5,
     "metadata": {},
     "output_type": "execute_result"
    }
   ],
   "source": [
    "df.isnull().sum()"
   ]
  },
  {
   "cell_type": "code",
   "execution_count": 8,
   "metadata": {},
   "outputs": [
    {
     "data": {
      "text/html": [
       "<div>\n",
       "<style scoped>\n",
       "    .dataframe tbody tr th:only-of-type {\n",
       "        vertical-align: middle;\n",
       "    }\n",
       "\n",
       "    .dataframe tbody tr th {\n",
       "        vertical-align: top;\n",
       "    }\n",
       "\n",
       "    .dataframe thead th {\n",
       "        text-align: right;\n",
       "    }\n",
       "</style>\n",
       "<table border=\"1\" class=\"dataframe\">\n",
       "  <thead>\n",
       "    <tr style=\"text-align: right;\">\n",
       "      <th></th>\n",
       "      <th>Name</th>\n",
       "      <th>Age</th>\n",
       "      <th>Nationality</th>\n",
       "      <th>Overall_rating</th>\n",
       "      <th>Potential</th>\n",
       "      <th>Club</th>\n",
       "      <th>Preferred Foot</th>\n",
       "      <th>International Reputation</th>\n",
       "      <th>Weak Foot</th>\n",
       "      <th>Skill Moves</th>\n",
       "      <th>Work Rate</th>\n",
       "      <th>Position</th>\n",
       "      <th>Jersey Number</th>\n",
       "      <th>Height</th>\n",
       "      <th>Weight</th>\n",
       "    </tr>\n",
       "  </thead>\n",
       "  <tbody>\n",
       "    <tr>\n",
       "      <th>452</th>\n",
       "      <td>L. Paredes</td>\n",
       "      <td>24</td>\n",
       "      <td>Argentina</td>\n",
       "      <td>80</td>\n",
       "      <td>85</td>\n",
       "      <td>NaN</td>\n",
       "      <td>Right</td>\n",
       "      <td>2</td>\n",
       "      <td>4</td>\n",
       "      <td>4</td>\n",
       "      <td>Medium/ Medium</td>\n",
       "      <td>CM</td>\n",
       "      <td>5</td>\n",
       "      <td>5.083333</td>\n",
       "      <td>165</td>\n",
       "    </tr>\n",
       "    <tr>\n",
       "      <th>538</th>\n",
       "      <td>A. Granqvist</td>\n",
       "      <td>33</td>\n",
       "      <td>Sweden</td>\n",
       "      <td>80</td>\n",
       "      <td>80</td>\n",
       "      <td>NaN</td>\n",
       "      <td>Right</td>\n",
       "      <td>2</td>\n",
       "      <td>4</td>\n",
       "      <td>2</td>\n",
       "      <td>High/ Medium</td>\n",
       "      <td>LCB</td>\n",
       "      <td>4</td>\n",
       "      <td>6.333333</td>\n",
       "      <td>185</td>\n",
       "    </tr>\n",
       "    <tr>\n",
       "      <th>568</th>\n",
       "      <td>A. Lunev</td>\n",
       "      <td>26</td>\n",
       "      <td>Russia</td>\n",
       "      <td>79</td>\n",
       "      <td>81</td>\n",
       "      <td>NaN</td>\n",
       "      <td>Right</td>\n",
       "      <td>1</td>\n",
       "      <td>3</td>\n",
       "      <td>1</td>\n",
       "      <td>Medium/ Medium</td>\n",
       "      <td>GK</td>\n",
       "      <td>12</td>\n",
       "      <td>6.166667</td>\n",
       "      <td>176</td>\n",
       "    </tr>\n",
       "    <tr>\n",
       "      <th>677</th>\n",
       "      <td>I. Smolnikov</td>\n",
       "      <td>29</td>\n",
       "      <td>Russia</td>\n",
       "      <td>79</td>\n",
       "      <td>79</td>\n",
       "      <td>NaN</td>\n",
       "      <td>Right</td>\n",
       "      <td>2</td>\n",
       "      <td>3</td>\n",
       "      <td>3</td>\n",
       "      <td>High/ High</td>\n",
       "      <td>RB</td>\n",
       "      <td>2</td>\n",
       "      <td>5.083333</td>\n",
       "      <td>154</td>\n",
       "    </tr>\n",
       "    <tr>\n",
       "      <th>874</th>\n",
       "      <td>A. Dzyuba</td>\n",
       "      <td>29</td>\n",
       "      <td>Russia</td>\n",
       "      <td>78</td>\n",
       "      <td>78</td>\n",
       "      <td>NaN</td>\n",
       "      <td>Right</td>\n",
       "      <td>2</td>\n",
       "      <td>3</td>\n",
       "      <td>3</td>\n",
       "      <td>High/ Medium</td>\n",
       "      <td>ST</td>\n",
       "      <td>22</td>\n",
       "      <td>6.416667</td>\n",
       "      <td>201</td>\n",
       "    </tr>\n",
       "    <tr>\n",
       "      <th>953</th>\n",
       "      <td>LuÃ­s Neto</td>\n",
       "      <td>30</td>\n",
       "      <td>Portugal</td>\n",
       "      <td>77</td>\n",
       "      <td>77</td>\n",
       "      <td>NaN</td>\n",
       "      <td>Right</td>\n",
       "      <td>1</td>\n",
       "      <td>3</td>\n",
       "      <td>2</td>\n",
       "      <td>Medium/ Medium</td>\n",
       "      <td>CB</td>\n",
       "      <td>4</td>\n",
       "      <td>6.166667</td>\n",
       "      <td>157</td>\n",
       "    </tr>\n",
       "    <tr>\n",
       "      <th>997</th>\n",
       "      <td>D. Kuzyaev</td>\n",
       "      <td>25</td>\n",
       "      <td>Russia</td>\n",
       "      <td>77</td>\n",
       "      <td>80</td>\n",
       "      <td>NaN</td>\n",
       "      <td>Right</td>\n",
       "      <td>1</td>\n",
       "      <td>3</td>\n",
       "      <td>3</td>\n",
       "      <td>Medium/ High</td>\n",
       "      <td>RM</td>\n",
       "      <td>7</td>\n",
       "      <td>6.000000</td>\n",
       "      <td>163</td>\n",
       "    </tr>\n",
       "    <tr>\n",
       "      <th>1008</th>\n",
       "      <td>G. Sio</td>\n",
       "      <td>29</td>\n",
       "      <td>Ivory Coast</td>\n",
       "      <td>77</td>\n",
       "      <td>77</td>\n",
       "      <td>NaN</td>\n",
       "      <td>Left</td>\n",
       "      <td>2</td>\n",
       "      <td>3</td>\n",
       "      <td>3</td>\n",
       "      <td>High/ Low</td>\n",
       "      <td>ST</td>\n",
       "      <td>21</td>\n",
       "      <td>5.083333</td>\n",
       "      <td>176</td>\n",
       "    </tr>\n",
       "    <tr>\n",
       "      <th>1120</th>\n",
       "      <td>J. Villar</td>\n",
       "      <td>41</td>\n",
       "      <td>Paraguay</td>\n",
       "      <td>77</td>\n",
       "      <td>77</td>\n",
       "      <td>NaN</td>\n",
       "      <td>Right</td>\n",
       "      <td>2</td>\n",
       "      <td>3</td>\n",
       "      <td>1</td>\n",
       "      <td>Medium/ Medium</td>\n",
       "      <td>GK</td>\n",
       "      <td>1</td>\n",
       "      <td>5.083333</td>\n",
       "      <td>187</td>\n",
       "    </tr>\n",
       "    <tr>\n",
       "      <th>1271</th>\n",
       "      <td>C. Riveros</td>\n",
       "      <td>35</td>\n",
       "      <td>Paraguay</td>\n",
       "      <td>76</td>\n",
       "      <td>76</td>\n",
       "      <td>NaN</td>\n",
       "      <td>Right</td>\n",
       "      <td>1</td>\n",
       "      <td>3</td>\n",
       "      <td>3</td>\n",
       "      <td>Medium/ Medium</td>\n",
       "      <td>CAM</td>\n",
       "      <td>16</td>\n",
       "      <td>5.083333</td>\n",
       "      <td>163</td>\n",
       "    </tr>\n",
       "    <tr>\n",
       "      <th>1352</th>\n",
       "      <td>B. DzsudzsÃ¡k</td>\n",
       "      <td>31</td>\n",
       "      <td>Hungary</td>\n",
       "      <td>76</td>\n",
       "      <td>76</td>\n",
       "      <td>NaN</td>\n",
       "      <td>Left</td>\n",
       "      <td>3</td>\n",
       "      <td>4</td>\n",
       "      <td>4</td>\n",
       "      <td>Medium/ Medium</td>\n",
       "      <td>RW</td>\n",
       "      <td>7</td>\n",
       "      <td>5.083333</td>\n",
       "      <td>159</td>\n",
       "    </tr>\n",
       "    <tr>\n",
       "      <th>1602</th>\n",
       "      <td>Y. Gazinskiy</td>\n",
       "      <td>28</td>\n",
       "      <td>Russia</td>\n",
       "      <td>75</td>\n",
       "      <td>75</td>\n",
       "      <td>NaN</td>\n",
       "      <td>Left</td>\n",
       "      <td>1</td>\n",
       "      <td>4</td>\n",
       "      <td>3</td>\n",
       "      <td>Medium/ Medium</td>\n",
       "      <td>CDM</td>\n",
       "      <td>4</td>\n",
       "      <td>6.000000</td>\n",
       "      <td>165</td>\n",
       "    </tr>\n",
       "    <tr>\n",
       "      <th>1671</th>\n",
       "      <td>V. CÃ¡ceres</td>\n",
       "      <td>33</td>\n",
       "      <td>Paraguay</td>\n",
       "      <td>75</td>\n",
       "      <td>75</td>\n",
       "      <td>NaN</td>\n",
       "      <td>Right</td>\n",
       "      <td>1</td>\n",
       "      <td>3</td>\n",
       "      <td>3</td>\n",
       "      <td>Medium/ High</td>\n",
       "      <td>RDM</td>\n",
       "      <td>15</td>\n",
       "      <td>6.083333</td>\n",
       "      <td>181</td>\n",
       "    </tr>\n",
       "    <tr>\n",
       "      <th>1819</th>\n",
       "      <td>P. Tau</td>\n",
       "      <td>24</td>\n",
       "      <td>South Africa</td>\n",
       "      <td>75</td>\n",
       "      <td>81</td>\n",
       "      <td>NaN</td>\n",
       "      <td>Right</td>\n",
       "      <td>1</td>\n",
       "      <td>4</td>\n",
       "      <td>4</td>\n",
       "      <td>High/ Medium</td>\n",
       "      <td>RW</td>\n",
       "      <td>19</td>\n",
       "      <td>5.500000</td>\n",
       "      <td>143</td>\n",
       "    </tr>\n",
       "    <tr>\n",
       "      <th>1902</th>\n",
       "      <td>C. Cueva</td>\n",
       "      <td>26</td>\n",
       "      <td>Peru</td>\n",
       "      <td>75</td>\n",
       "      <td>75</td>\n",
       "      <td>NaN</td>\n",
       "      <td>Right</td>\n",
       "      <td>1</td>\n",
       "      <td>4</td>\n",
       "      <td>3</td>\n",
       "      <td>Medium/ Medium</td>\n",
       "      <td>LM</td>\n",
       "      <td>8</td>\n",
       "      <td>5.500000</td>\n",
       "      <td>134</td>\n",
       "    </tr>\n",
       "    <tr>\n",
       "      <th>1907</th>\n",
       "      <td>M. Mevlja</td>\n",
       "      <td>28</td>\n",
       "      <td>Slovenia</td>\n",
       "      <td>75</td>\n",
       "      <td>77</td>\n",
       "      <td>NaN</td>\n",
       "      <td>Right</td>\n",
       "      <td>1</td>\n",
       "      <td>3</td>\n",
       "      <td>2</td>\n",
       "      <td>Medium/ High</td>\n",
       "      <td>LCB</td>\n",
       "      <td>4</td>\n",
       "      <td>6.250000</td>\n",
       "      <td>183</td>\n",
       "    </tr>\n",
       "    <tr>\n",
       "      <th>1933</th>\n",
       "      <td>K. TraorÃ©</td>\n",
       "      <td>26</td>\n",
       "      <td>Ivory Coast</td>\n",
       "      <td>75</td>\n",
       "      <td>75</td>\n",
       "      <td>NaN</td>\n",
       "      <td>Left</td>\n",
       "      <td>1</td>\n",
       "      <td>3</td>\n",
       "      <td>4</td>\n",
       "      <td>High/ Low</td>\n",
       "      <td>CAM</td>\n",
       "      <td>8</td>\n",
       "      <td>5.083333</td>\n",
       "      <td>165</td>\n",
       "    </tr>\n",
       "    <tr>\n",
       "      <th>1936</th>\n",
       "      <td>K. Fofana</td>\n",
       "      <td>26</td>\n",
       "      <td>Ivory Coast</td>\n",
       "      <td>75</td>\n",
       "      <td>75</td>\n",
       "      <td>NaN</td>\n",
       "      <td>Right</td>\n",
       "      <td>1</td>\n",
       "      <td>3</td>\n",
       "      <td>3</td>\n",
       "      <td>Medium/ Medium</td>\n",
       "      <td>ST</td>\n",
       "      <td>22</td>\n",
       "      <td>6.166667</td>\n",
       "      <td>179</td>\n",
       "    </tr>\n",
       "    <tr>\n",
       "      <th>1964</th>\n",
       "      <td>V. Claesson</td>\n",
       "      <td>26</td>\n",
       "      <td>Sweden</td>\n",
       "      <td>75</td>\n",
       "      <td>78</td>\n",
       "      <td>NaN</td>\n",
       "      <td>Right</td>\n",
       "      <td>1</td>\n",
       "      <td>3</td>\n",
       "      <td>3</td>\n",
       "      <td>High/ High</td>\n",
       "      <td>RM</td>\n",
       "      <td>13</td>\n",
       "      <td>6.000000</td>\n",
       "      <td>174</td>\n",
       "    </tr>\n",
       "  </tbody>\n",
       "</table>\n",
       "</div>"
      ],
      "text/plain": [
       "               Name  Age   Nationality  Overall_rating  Potential Club  \\\n",
       "452      L. Paredes   24     Argentina              80         85  NaN   \n",
       "538    A. Granqvist   33        Sweden              80         80  NaN   \n",
       "568        A. Lunev   26        Russia              79         81  NaN   \n",
       "677    I. Smolnikov   29        Russia              79         79  NaN   \n",
       "874       A. Dzyuba   29        Russia              78         78  NaN   \n",
       "953      LuÃ­s Neto   30      Portugal              77         77  NaN   \n",
       "997      D. Kuzyaev   25        Russia              77         80  NaN   \n",
       "1008         G. Sio   29   Ivory Coast              77         77  NaN   \n",
       "1120      J. Villar   41      Paraguay              77         77  NaN   \n",
       "1271     C. Riveros   35      Paraguay              76         76  NaN   \n",
       "1352  B. DzsudzsÃ¡k   31       Hungary              76         76  NaN   \n",
       "1602   Y. Gazinskiy   28        Russia              75         75  NaN   \n",
       "1671    V. CÃ¡ceres   33      Paraguay              75         75  NaN   \n",
       "1819         P. Tau   24  South Africa              75         81  NaN   \n",
       "1902       C. Cueva   26          Peru              75         75  NaN   \n",
       "1907      M. Mevlja   28      Slovenia              75         77  NaN   \n",
       "1933     K. TraorÃ©   26   Ivory Coast              75         75  NaN   \n",
       "1936      K. Fofana   26   Ivory Coast              75         75  NaN   \n",
       "1964    V. Claesson   26        Sweden              75         78  NaN   \n",
       "\n",
       "     Preferred Foot  International Reputation  Weak Foot  Skill Moves  \\\n",
       "452           Right                         2          4            4   \n",
       "538           Right                         2          4            2   \n",
       "568           Right                         1          3            1   \n",
       "677           Right                         2          3            3   \n",
       "874           Right                         2          3            3   \n",
       "953           Right                         1          3            2   \n",
       "997           Right                         1          3            3   \n",
       "1008           Left                         2          3            3   \n",
       "1120          Right                         2          3            1   \n",
       "1271          Right                         1          3            3   \n",
       "1352           Left                         3          4            4   \n",
       "1602           Left                         1          4            3   \n",
       "1671          Right                         1          3            3   \n",
       "1819          Right                         1          4            4   \n",
       "1902          Right                         1          4            3   \n",
       "1907          Right                         1          3            2   \n",
       "1933           Left                         1          3            4   \n",
       "1936          Right                         1          3            3   \n",
       "1964          Right                         1          3            3   \n",
       "\n",
       "           Work Rate Position  Jersey Number    Height  Weight  \n",
       "452   Medium/ Medium       CM              5  5.083333     165  \n",
       "538     High/ Medium      LCB              4  6.333333     185  \n",
       "568   Medium/ Medium       GK             12  6.166667     176  \n",
       "677       High/ High       RB              2  5.083333     154  \n",
       "874     High/ Medium       ST             22  6.416667     201  \n",
       "953   Medium/ Medium       CB              4  6.166667     157  \n",
       "997     Medium/ High       RM              7  6.000000     163  \n",
       "1008       High/ Low       ST             21  5.083333     176  \n",
       "1120  Medium/ Medium       GK              1  5.083333     187  \n",
       "1271  Medium/ Medium      CAM             16  5.083333     163  \n",
       "1352  Medium/ Medium       RW              7  5.083333     159  \n",
       "1602  Medium/ Medium      CDM              4  6.000000     165  \n",
       "1671    Medium/ High      RDM             15  6.083333     181  \n",
       "1819    High/ Medium       RW             19  5.500000     143  \n",
       "1902  Medium/ Medium       LM              8  5.500000     134  \n",
       "1907    Medium/ High      LCB              4  6.250000     183  \n",
       "1933       High/ Low      CAM              8  5.083333     165  \n",
       "1936  Medium/ Medium       ST             22  6.166667     179  \n",
       "1964      High/ High       RM             13  6.000000     174  "
      ]
     },
     "execution_count": 8,
     "metadata": {},
     "output_type": "execute_result"
    }
   ],
   "source": [
    "df[df[\"Club\"].isnull()==True]"
   ]
  },
  {
   "cell_type": "markdown",
   "metadata": {},
   "source": [
    "1. Perform the following statistical analysis on the fifa world cup dataset. The dataset consists of player information, which includes height; weight overall rating, potential etc. Data Cleaning and basic EDA process needs to be performed. "
   ]
  },
  {
   "cell_type": "markdown",
   "metadata": {},
   "source": [
    "a)\tAssuming age as population, perform the central limit theorem with sample size of 200. Find the standard error and the mean of sampling distribution. Compare the results with population mean and standard deviation. Explain in non-technical terms why the estimated standard error of a sample mean tends to decrease with an increase in sample size\n",
    "\n"
   ]
  },
  {
   "cell_type": "code",
   "execution_count": 39,
   "metadata": {},
   "outputs": [],
   "source": [
    "import random\n",
    "lista=list(df[\"Age\"])\n",
    "listm=[]\n",
    "for i in range (10000):\n",
    "    list1=[]\n",
    "    for i in range(200):\n",
    "            list1.append(random.choices(lista))\n",
    "    \n",
    "    listm.append(np.mean(list1))\n",
    "    \n"
   ]
  },
  {
   "cell_type": "code",
   "execution_count": 40,
   "metadata": {},
   "outputs": [
    {
     "data": {
      "text/plain": [
       "27.232823000000003"
      ]
     },
     "execution_count": 40,
     "metadata": {},
     "output_type": "execute_result"
    }
   ],
   "source": [
    "np.mean(listm)\n"
   ]
  },
  {
   "cell_type": "code",
   "execution_count": 36,
   "metadata": {},
   "outputs": [
    {
     "data": {
      "text/plain": [
       "27.2315"
      ]
     },
     "execution_count": 36,
     "metadata": {},
     "output_type": "execute_result"
    }
   ],
   "source": [
    "np.mean(df[\"Age\"])"
   ]
  },
  {
   "cell_type": "code",
   "execution_count": null,
   "metadata": {},
   "outputs": [],
   "source": [
    "# The mean of the sample means is almost equal to the mean of the population\n"
   ]
  },
  {
   "cell_type": "code",
   "execution_count": 41,
   "metadata": {},
   "outputs": [
    {
     "data": {
      "text/plain": [
       "<AxesSubplot:ylabel='Density'>"
      ]
     },
     "execution_count": 41,
     "metadata": {},
     "output_type": "execute_result"
    },
    {
     "data": {
      "image/png": "[encoded data removed]",
      "text/plain": [
       "<Figure size 432x288 with 1 Axes>"
      ]
     },
     "metadata": {
      "needs_background": "light"
     },
     "output_type": "display_data"
    }
   ],
   "source": [
    "sns.kdeplot(listm)\n",
    "#it is almost normal"
   ]
  },
  {
   "cell_type": "code",
   "execution_count": 42,
   "metadata": {},
   "outputs": [
    {
     "data": {
      "text/plain": [
       "0.08629123341036274"
      ]
     },
     "execution_count": 42,
     "metadata": {},
     "output_type": "execute_result"
    }
   ],
   "source": [
    "# standard error= sigma/root(n)\n",
    "se=df.Age.std()/np.sqrt(2000)\n",
    "se"
   ]
  },
  {
   "cell_type": "code",
   "execution_count": 43,
   "metadata": {},
   "outputs": [
    {
     "data": {
      "text/plain": [
       "27.232823000000003"
      ]
     },
     "execution_count": 43,
     "metadata": {},
     "output_type": "execute_result"
    }
   ],
   "source": [
    "# Mean of sampling distribution\n",
    "np.mean(listm)"
   ]
  },
  {
   "cell_type": "code",
   "execution_count": 44,
   "metadata": {},
   "outputs": [
    {
     "data": {
      "text/plain": [
       "3.8590612753574423"
      ]
     },
     "execution_count": 44,
     "metadata": {},
     "output_type": "execute_result"
    }
   ],
   "source": [
    "# Mean of Population\n",
    "df[\"Age\"].std()"
   ]
  },
  {
   "cell_type": "code",
   "execution_count": null,
   "metadata": {},
   "outputs": [],
   "source": [
    "# THe mean of sample means=mean of population\n",
    "# The sample distribution is normal but the population is not"
   ]
  },
  {
   "cell_type": "code",
   "execution_count": null,
   "metadata": {},
   "outputs": [],
   "source": [
    "# As the sample size increases the sample becomes more representative of the population\n",
    "# therefore as the sample size increases the error value reduces"
   ]
  },
  {
   "cell_type": "markdown",
   "metadata": {},
   "source": [
    "b)\tIs there any evidence that the players overall rating is greater than 80?"
   ]
  },
  {
   "cell_type": "code",
   "execution_count": 25,
   "metadata": {},
   "outputs": [
    {
     "data": {
      "text/plain": [
       "-24.538460498672645"
      ]
     },
     "execution_count": 25,
     "metadata": {},
     "output_type": "execute_result"
    }
   ],
   "source": [
    "#null hypothesis : overall rating<=80\n",
    "# alternate hypothesis : overall rating >80\n",
    "\n",
    "\n",
    "\n",
    "u=df[\"Overall_rating\"].mean()\n",
    "mu=80\n",
    "sig=df[\"Overall_rating\"].std()\n",
    "t=(u-mu)/(sig/np.sqrt(2000))\n",
    "t"
   ]
  },
  {
   "cell_type": "code",
   "execution_count": 28,
   "metadata": {},
   "outputs": [],
   "source": [
    "tcrit=stats.t.isf(0.05,df=1999)"
   ]
  },
  {
   "cell_type": "code",
   "execution_count": 30,
   "metadata": {},
   "outputs": [
    {
     "data": {
      "text/plain": [
       "True"
      ]
     },
     "execution_count": 30,
     "metadata": {},
     "output_type": "execute_result"
    }
   ],
   "source": [
    "t<tcrit"
   ]
  },
  {
   "cell_type": "code",
   "execution_count": null,
   "metadata": {},
   "outputs": [],
   "source": [
    "# We fail to reject null hypothesis\n",
    "# overall rating <=80"
   ]
  },
  {
   "cell_type": "markdown",
   "metadata": {},
   "source": [
    "c) Perform the statistical test to identify whether preferred foot has any impact on potential. Also, perform the graphical analysis."
   ]
  },
  {
   "cell_type": "code",
   "execution_count": null,
   "metadata": {},
   "outputs": [],
   "source": [
    "# NUll Hypothesis : Preferred foot and Potential are unrelated\n",
    "# Alternate Hypothesis : Preferred foot and Potential are related"
   ]
  },
  {
   "cell_type": "code",
   "execution_count": 39,
   "metadata": {},
   "outputs": [],
   "source": [
    "t,p=stats.f_oneway(df[df[\"Preferred Foot\"]==\"Left\"][\"Potential\"],df[df[\"Preferred Foot\"]==\"Right\"][\"Potential\"])"
   ]
  },
  {
   "cell_type": "code",
   "execution_count": 40,
   "metadata": {},
   "outputs": [
    {
     "data": {
      "text/plain": [
       "True"
      ]
     },
     "execution_count": 40,
     "metadata": {},
     "output_type": "execute_result"
    }
   ],
   "source": [
    "p>0.05"
   ]
  },
  {
   "cell_type": "code",
   "execution_count": null,
   "metadata": {},
   "outputs": [],
   "source": [
    "# There we fail to reject null hypothesis"
   ]
  },
  {
   "cell_type": "code",
   "execution_count": 44,
   "metadata": {},
   "outputs": [
    {
     "data": {
      "text/plain": [
       "<AxesSubplot:xlabel='Preferred Foot', ylabel='Potential'>"
      ]
     },
     "execution_count": 44,
     "metadata": {},
     "output_type": "execute_result"
    },
    {
     "data": {
      "image/png": "[encoded data removed]",
      "text/plain": [
       "<Figure size 432x288 with 1 Axes>"
      ]
     },
     "metadata": {
      "needs_background": "light"
     },
     "output_type": "display_data"
    }
   ],
   "source": [
    "# graphical analysis\n",
    "sns.boxplot(y=df[\"Potential\"],x=df[\"Preferred Foot\"])"
   ]
  },
  {
   "cell_type": "code",
   "execution_count": null,
   "metadata": {},
   "outputs": [],
   "source": [
    "# there is not much difference between left and right foot"
   ]
  },
  {
   "cell_type": "markdown",
   "metadata": {},
   "source": [
    "\n",
    "d)\tPerform the statistical test to identify the relation between the overall rating and potential. [Assume both are continuous data points].\n"
   ]
  },
  {
   "cell_type": "code",
   "execution_count": null,
   "metadata": {},
   "outputs": [],
   "source": [
    "# Null Hypothesis : The two variables are independent\n",
    "# Alternate Hypothesis : The two variables are dependent"
   ]
  },
  {
   "cell_type": "code",
   "execution_count": 50,
   "metadata": {},
   "outputs": [],
   "source": [
    "df[\"Overall_rating\"]\n",
    "df[\"Potential\"]\n",
    "t,p=stats.ttest_ind(df[\"Overall_rating\"],df[\"Potential\"])"
   ]
  },
  {
   "cell_type": "code",
   "execution_count": 51,
   "metadata": {},
   "outputs": [
    {
     "data": {
      "text/plain": [
       "False"
      ]
     },
     "execution_count": 51,
     "metadata": {},
     "output_type": "execute_result"
    }
   ],
   "source": [
    "p>0.05"
   ]
  },
  {
   "cell_type": "code",
   "execution_count": 52,
   "metadata": {},
   "outputs": [],
   "source": [
    "# We Reject the NUll Hypothesis"
   ]
  },
  {
   "cell_type": "markdown",
   "metadata": {},
   "source": [
    "e)\tDoes skill move have any effect in overall rating? Perform the graphical analysis and the statistical analysis."
   ]
  },
  {
   "cell_type": "code",
   "execution_count": 67,
   "metadata": {},
   "outputs": [
    {
     "data": {
      "text/plain": [
       "array([4, 5, 1, 3, 2], dtype=int64)"
      ]
     },
     "execution_count": 67,
     "metadata": {},
     "output_type": "execute_result"
    }
   ],
   "source": [
    "df[\"Skill Moves\"].unique()"
   ]
  },
  {
   "cell_type": "code",
   "execution_count": 68,
   "metadata": {},
   "outputs": [],
   "source": [
    "df[\"Skill Moves\"]=df[\"Skill Moves\"].astype(\"object\")"
   ]
  },
  {
   "cell_type": "code",
   "execution_count": 58,
   "metadata": {},
   "outputs": [],
   "source": [
    "# Null: There is no relation between skill moves and overall rating\n",
    "# Alternate : There is relation between skill moves and overall rating\n",
    "\n"
   ]
  },
  {
   "cell_type": "code",
   "execution_count": 60,
   "metadata": {},
   "outputs": [],
   "source": [
    "f,p=stats.f_oneway(df[df[\"Skill Moves\"]==1][\"Overall_rating\"],\n",
    "              df[df[\"Skill Moves\"]==2][\"Overall_rating\"],\n",
    "              df[df[\"Skill Moves\"]==3][\"Overall_rating\"],\n",
    "              df[df[\"Skill Moves\"]==4][\"Overall_rating\"],\n",
    "              df[df[\"Skill Moves\"]==5][\"Overall_rating\"])"
   ]
  },
  {
   "cell_type": "code",
   "execution_count": 69,
   "metadata": {},
   "outputs": [
    {
     "data": {
      "text/plain": [
       "True"
      ]
     },
     "execution_count": 69,
     "metadata": {},
     "output_type": "execute_result"
    }
   ],
   "source": [
    "p<0.05"
   ]
  },
  {
   "cell_type": "code",
   "execution_count": 62,
   "metadata": {},
   "outputs": [],
   "source": [
    "#Therefore we reject the null hypothesis \n",
    "#There is a relationship between skill moves and overall rating\n"
   ]
  },
  {
   "cell_type": "code",
   "execution_count": 71,
   "metadata": {},
   "outputs": [
    {
     "data": {
      "text/plain": [
       "<AxesSubplot:xlabel='Skill Moves', ylabel='Overall_rating'>"
      ]
     },
     "execution_count": 71,
     "metadata": {},
     "output_type": "execute_result"
    },
    {
     "data": {
      "image/png": "[encoded data removed]",
      "text/plain": [
       "<Figure size 432x288 with 1 Axes>"
      ]
     },
     "metadata": {
      "needs_background": "light"
     },
     "output_type": "display_data"
    }
   ],
   "source": [
    "#Statistical Analysis\n",
    "sns.boxplot(y=df[\"Overall_rating\"],x=df[\"Skill Moves\"])\n",
    "# as you can see there is a difference"
   ]
  },
  {
   "cell_type": "markdown",
   "metadata": {},
   "source": [
    "# Mobile networks data set"
   ]
  },
  {
   "cell_type": "code",
   "execution_count": 66,
   "metadata": {},
   "outputs": [
    {
     "data": {
      "text/html": [
       "<div>\n",
       "<style scoped>\n",
       "    .dataframe tbody tr th:only-of-type {\n",
       "        vertical-align: middle;\n",
       "    }\n",
       "\n",
       "    .dataframe tbody tr th {\n",
       "        vertical-align: top;\n",
       "    }\n",
       "\n",
       "    .dataframe thead th {\n",
       "        text-align: right;\n",
       "    }\n",
       "</style>\n",
       "<table border=\"1\" class=\"dataframe\">\n",
       "  <thead>\n",
       "    <tr style=\"text-align: right;\">\n",
       "      <th></th>\n",
       "      <th>date</th>\n",
       "      <th>duration</th>\n",
       "      <th>item</th>\n",
       "      <th>month</th>\n",
       "      <th>network</th>\n",
       "      <th>network_type</th>\n",
       "    </tr>\n",
       "  </thead>\n",
       "  <tbody>\n",
       "    <tr>\n",
       "      <th>0</th>\n",
       "      <td>15-10-14 6:58</td>\n",
       "      <td>221.321120</td>\n",
       "      <td>data</td>\n",
       "      <td>2014-11</td>\n",
       "      <td>data</td>\n",
       "      <td>data</td>\n",
       "    </tr>\n",
       "    <tr>\n",
       "      <th>1</th>\n",
       "      <td>15-10-14 6:58</td>\n",
       "      <td>81.610599</td>\n",
       "      <td>call</td>\n",
       "      <td>2014-11</td>\n",
       "      <td>Vodafone</td>\n",
       "      <td>mobile</td>\n",
       "    </tr>\n",
       "    <tr>\n",
       "      <th>2</th>\n",
       "      <td>15-10-14 14:46</td>\n",
       "      <td>143.109111</td>\n",
       "      <td>call</td>\n",
       "      <td>2014-11</td>\n",
       "      <td>Meteor</td>\n",
       "      <td>mobile</td>\n",
       "    </tr>\n",
       "    <tr>\n",
       "      <th>3</th>\n",
       "      <td>15-10-14 14:48</td>\n",
       "      <td>111.888670</td>\n",
       "      <td>call</td>\n",
       "      <td>2014-11</td>\n",
       "      <td>Tesco</td>\n",
       "      <td>mobile</td>\n",
       "    </tr>\n",
       "    <tr>\n",
       "      <th>4</th>\n",
       "      <td>15-10-14 17:27</td>\n",
       "      <td>246.695171</td>\n",
       "      <td>call</td>\n",
       "      <td>2014-11</td>\n",
       "      <td>Tesco</td>\n",
       "      <td>mobile</td>\n",
       "    </tr>\n",
       "    <tr>\n",
       "      <th>...</th>\n",
       "      <td>...</td>\n",
       "      <td>...</td>\n",
       "      <td>...</td>\n",
       "      <td>...</td>\n",
       "      <td>...</td>\n",
       "      <td>...</td>\n",
       "    </tr>\n",
       "    <tr>\n",
       "      <th>815</th>\n",
       "      <td>10-03-15 6:58</td>\n",
       "      <td>185.328156</td>\n",
       "      <td>data</td>\n",
       "      <td>2015-03</td>\n",
       "      <td>data</td>\n",
       "      <td>data</td>\n",
       "    </tr>\n",
       "    <tr>\n",
       "      <th>816</th>\n",
       "      <td>11-03-15 6:58</td>\n",
       "      <td>89.819383</td>\n",
       "      <td>data</td>\n",
       "      <td>2015-03</td>\n",
       "      <td>data</td>\n",
       "      <td>data</td>\n",
       "    </tr>\n",
       "    <tr>\n",
       "      <th>817</th>\n",
       "      <td>12-03-15 6:58</td>\n",
       "      <td>117.604998</td>\n",
       "      <td>data</td>\n",
       "      <td>2015-03</td>\n",
       "      <td>data</td>\n",
       "      <td>data</td>\n",
       "    </tr>\n",
       "    <tr>\n",
       "      <th>818</th>\n",
       "      <td>13-03-15 0:39</td>\n",
       "      <td>77.834006</td>\n",
       "      <td>sms</td>\n",
       "      <td>2015-03</td>\n",
       "      <td>Vodafone</td>\n",
       "      <td>mobile</td>\n",
       "    </tr>\n",
       "    <tr>\n",
       "      <th>819</th>\n",
       "      <td>13-03-15 6:58</td>\n",
       "      <td>146.000584</td>\n",
       "      <td>data</td>\n",
       "      <td>2015-03</td>\n",
       "      <td>data</td>\n",
       "      <td>data</td>\n",
       "    </tr>\n",
       "  </tbody>\n",
       "</table>\n",
       "<p>820 rows × 6 columns</p>\n",
       "</div>"
      ],
      "text/plain": [
       "               date    duration  item    month   network network_type\n",
       "0     15-10-14 6:58  221.321120  data  2014-11      data         data\n",
       "1     15-10-14 6:58   81.610599  call  2014-11  Vodafone       mobile\n",
       "2    15-10-14 14:46  143.109111  call  2014-11    Meteor       mobile\n",
       "3    15-10-14 14:48  111.888670  call  2014-11     Tesco       mobile\n",
       "4    15-10-14 17:27  246.695171  call  2014-11     Tesco       mobile\n",
       "..              ...         ...   ...      ...       ...          ...\n",
       "815   10-03-15 6:58  185.328156  data  2015-03      data         data\n",
       "816   11-03-15 6:58   89.819383  data  2015-03      data         data\n",
       "817   12-03-15 6:58  117.604998  data  2015-03      data         data\n",
       "818   13-03-15 0:39   77.834006   sms  2015-03  Vodafone       mobile\n",
       "819   13-03-15 6:58  146.000584  data  2015-03      data         data\n",
       "\n",
       "[820 rows x 6 columns]"
      ]
     },
     "execution_count": 66,
     "metadata": {},
     "output_type": "execute_result"
    }
   ],
   "source": [
    "df1=pd.read_csv(\"phone.csv\")\n",
    "df1"
   ]
  },
  {
   "cell_type": "code",
   "execution_count": 49,
   "metadata": {},
   "outputs": [
    {
     "data": {
      "text/plain": [
       "date            0\n",
       "duration        0\n",
       "item            0\n",
       "month           0\n",
       "network         0\n",
       "network_type    0\n",
       "dtype: int64"
      ]
     },
     "execution_count": 49,
     "metadata": {},
     "output_type": "execute_result"
    }
   ],
   "source": [
    "df1.isnull().sum()"
   ]
  },
  {
   "cell_type": "markdown",
   "metadata": {},
   "source": [
    "a) With 95% & 99% Confidence Interval, find the range estimate of average duration calls made by the entire network. Which of the Intervals are wider? Interpret the results"
   ]
  },
  {
   "cell_type": "code",
   "execution_count": 50,
   "metadata": {},
   "outputs": [
    {
     "data": {
      "text/plain": [
       "(820, 6)"
      ]
     },
     "execution_count": 50,
     "metadata": {},
     "output_type": "execute_result"
    }
   ],
   "source": [
    "df1.shape"
   ]
  },
  {
   "cell_type": "code",
   "execution_count": 3,
   "metadata": {},
   "outputs": [
    {
     "data": {
      "text/plain": [
       "ShapiroResult(statistic=0.9984679818153381, pvalue=0.701244592666626)"
      ]
     },
     "execution_count": 3,
     "metadata": {},
     "output_type": "execute_result"
    }
   ],
   "source": [
    "stats.shapiro(df1[\"duration\"])\n",
    "# as p-value>0.05\n",
    "# normally distributed so we can perform z test"
   ]
  },
  {
   "cell_type": "code",
   "execution_count": 53,
   "metadata": {},
   "outputs": [
    {
     "data": {
      "text/plain": [
       "(141.1778397288302, 147.4320313908407)"
      ]
     },
     "execution_count": 53,
     "metadata": {},
     "output_type": "execute_result"
    }
   ],
   "source": [
    "pop_mean=df1[\"duration\"].mean()\n",
    "pop_std=df1[\"duration\"].std()\n",
    "\n",
    "stats.norm.interval(0.95,loc=pop_mean,scale=pop_std/np.sqrt(820))"
   ]
  },
  {
   "cell_type": "code",
   "execution_count": 54,
   "metadata": {},
   "outputs": [
    {
     "data": {
      "text/plain": [
       "(140.19523500408818, 148.41463611558274)"
      ]
     },
     "execution_count": 54,
     "metadata": {},
     "output_type": "execute_result"
    }
   ],
   "source": [
    "stats.norm.interval(0.99,loc=pop_mean,scale=pop_std/np.sqrt(820))"
   ]
  },
  {
   "cell_type": "markdown",
   "metadata": {},
   "source": [
    "The 99% confidence is wider than the 95% confidence as \n",
    "the area under the curve increases with increased confidence interval"
   ]
  },
  {
   "cell_type": "markdown",
   "metadata": {},
   "source": [
    "b) Perform statistical analysis to check whether the networks are \n",
    "equally distributed in the dataset."
   ]
  },
  {
   "cell_type": "code",
   "execution_count": 56,
   "metadata": {},
   "outputs": [
    {
     "data": {
      "text/plain": [
       "Three        215\n",
       "Vodafone     215\n",
       "data         150\n",
       "Meteor        87\n",
       "Tesco         84\n",
       "landline      42\n",
       "voicemail     27\n",
       "Name: network, dtype: int64"
      ]
     },
     "execution_count": 56,
     "metadata": {},
     "output_type": "execute_result"
    }
   ],
   "source": [
    "df1[\"network\"].value_counts()"
   ]
  },
  {
   "cell_type": "code",
   "execution_count": 59,
   "metadata": {},
   "outputs": [],
   "source": [
    "obs=[215,215,150,87,84,42,27]\n",
    "exp=[117,117,117,117,117,117,117]"
   ]
  },
  {
   "cell_type": "code",
   "execution_count": 60,
   "metadata": {},
   "outputs": [],
   "source": [
    "#null hypothesis: The Values are equally distributed\n",
    "# alternate hypothesis : The values are not equally distributed\n"
   ]
  },
  {
   "cell_type": "code",
   "execution_count": 62,
   "metadata": {},
   "outputs": [
    {
     "data": {
      "text/plain": [
       "True"
      ]
     },
     "execution_count": 62,
     "metadata": {},
     "output_type": "execute_result"
    }
   ],
   "source": [
    "chi,p=stats.chisquare(obs,exp)\n",
    "p<0.05"
   ]
  },
  {
   "cell_type": "markdown",
   "metadata": {},
   "source": [
    "We reject the null hypothesis \n",
    "The values are not equally distributed"
   ]
  },
  {
   "cell_type": "markdown",
   "metadata": {},
   "source": [
    "c) Plot the distribution of duration with respect to each network in the same graph and interpret the results from the graph."
   ]
  },
  {
   "cell_type": "code",
   "execution_count": 73,
   "metadata": {},
   "outputs": [
    {
     "data": {
      "image/png": "[encoded data removed]",
      "text/plain": [
       "<Figure size 432x288 with 1 Axes>"
      ]
     },
     "metadata": {
      "needs_background": "light"
     },
     "output_type": "display_data"
    }
   ],
   "source": [
    "sns.kdeplot(df1[df1[\"network\"]==\"Three\"][\"duration\"],label=\"Three\")\n",
    "sns.kdeplot(df1[df1[\"network\"]==\"Vodafone\"][\"duration\"],label=\"Vodafone\")\n",
    "sns.kdeplot(df1[df1[\"network\"]==\"data\"][\"duration\"],label=\"data\")\n",
    "sns.kdeplot(df1[df1[\"network\"]==\"Meteor\"][\"duration\"],label=\"Meteor\")\n",
    "sns.kdeplot(df1[df1[\"network\"]==\"Tesco\"][\"duration\"],label=\"Tesco\")\n",
    "sns.kdeplot(df1[df1[\"network\"]==\"landline\"][\"duration\"],label=\"landline\")\n",
    "sns.kdeplot(df1[df1[\"network\"]==\"voicemail\"][\"duration\"],label=\"voicemail\")\n",
    "plt.legend()\n",
    "plt.show()\n"
   ]
  },
  {
   "cell_type": "code",
   "execution_count": null,
   "metadata": {},
   "outputs": [],
   "source": [
    "# inferences\n",
    "# data looks like it has the most normal distribution\n",
    "# some of the distributions have multiple modes\n",
    "# means of the distribution seem to be close"
   ]
  },
  {
   "cell_type": "markdown",
   "metadata": {},
   "source": [
    "d)\tPerform statistical tests to identify the relation between item and duration. Detailed explanation of relation between the classes is required"
   ]
  },
  {
   "cell_type": "code",
   "execution_count": 75,
   "metadata": {},
   "outputs": [
    {
     "data": {
      "text/plain": [
       "array(['data', 'call', 'sms'], dtype=object)"
      ]
     },
     "execution_count": 75,
     "metadata": {},
     "output_type": "execute_result"
    }
   ],
   "source": [
    "df1[\"item\"].unique()"
   ]
  },
  {
   "cell_type": "code",
   "execution_count": 67,
   "metadata": {},
   "outputs": [
    {
     "data": {
      "text/plain": [
       "ShapiroResult(statistic=0.9984679818153381, pvalue=0.701244592666626)"
      ]
     },
     "execution_count": 67,
     "metadata": {},
     "output_type": "execute_result"
    }
   ],
   "source": [
    "stats.shapiro(df1[\"duration\"])\n",
    "# as p-value>0.05\n",
    "# this data follows normal distribution\n"
   ]
  },
  {
   "cell_type": "code",
   "execution_count": 74,
   "metadata": {},
   "outputs": [
    {
     "data": {
      "text/plain": [
       "LeveneResult(statistic=3.4300976447008424, pvalue=0.03285087780533987)"
      ]
     },
     "execution_count": 74,
     "metadata": {},
     "output_type": "execute_result"
    }
   ],
   "source": [
    "stats.levene(df1[df1[\"item\"]==\"call\"][\"duration\"],\n",
    "              df1[df1[\"item\"]==\"sms\"][\"duration\"],\n",
    "              df1[df1[\"item\"]==\"data\"][\"duration\"])\n",
    "# we fail levene test"
   ]
  },
  {
   "cell_type": "code",
   "execution_count": 70,
   "metadata": {},
   "outputs": [
    {
     "name": "stdout",
     "output_type": "stream",
     "text": [
      "1715.4028005929426 2167.275990908408 2160.7929871801025\n"
     ]
    }
   ],
   "source": [
    "# however even though the variances are not equal they are pretty close so the test should be accurate \n",
    "# so we go ahead\n",
    "print(df1[df1[\"item\"]==\"data\"][\"duration\"].var(),\n",
    "              df1[df1[\"item\"]==\"call\"][\"duration\"].var(),\n",
    "              df1[df1[\"item\"]==\"sms\"][\"duration\"].var())"
   ]
  },
  {
   "cell_type": "code",
   "execution_count": null,
   "metadata": {},
   "outputs": [],
   "source": [
    "#null hypothesis : There is no relation between item and duration\n",
    "# alternate hypothesis : there is a relation between item and duration"
   ]
  },
  {
   "cell_type": "code",
   "execution_count": 72,
   "metadata": {},
   "outputs": [],
   "source": [
    "f,p=stats.f_oneway(df1[df1[\"item\"]==\"data\"][\"duration\"],\n",
    "              df1[df1[\"item\"]==\"call\"][\"duration\"],\n",
    "              df1[df1[\"item\"]==\"sms\"][\"duration\"])"
   ]
  },
  {
   "cell_type": "code",
   "execution_count": 73,
   "metadata": {},
   "outputs": [
    {
     "data": {
      "text/plain": [
       "True"
      ]
     },
     "execution_count": 73,
     "metadata": {},
     "output_type": "execute_result"
    }
   ],
   "source": [
    "p>0.05"
   ]
  },
  {
   "cell_type": "code",
   "execution_count": null,
   "metadata": {},
   "outputs": [],
   "source": [
    "# We fail to reject the null hypothesis.There is no relation between item and duration"
   ]
  },
  {
   "cell_type": "markdown",
   "metadata": {},
   "source": [
    "e) \tPerform statistical tests to identify the relation between network and network_type. \n",
    " \n"
   ]
  },
  {
   "cell_type": "code",
   "execution_count": 89,
   "metadata": {},
   "outputs": [
    {
     "data": {
      "text/html": [
       "<div>\n",
       "<style scoped>\n",
       "    .dataframe tbody tr th:only-of-type {\n",
       "        vertical-align: middle;\n",
       "    }\n",
       "\n",
       "    .dataframe tbody tr th {\n",
       "        vertical-align: top;\n",
       "    }\n",
       "\n",
       "    .dataframe thead th {\n",
       "        text-align: right;\n",
       "    }\n",
       "</style>\n",
       "<table border=\"1\" class=\"dataframe\">\n",
       "  <thead>\n",
       "    <tr style=\"text-align: right;\">\n",
       "      <th>network_type</th>\n",
       "      <th>data</th>\n",
       "      <th>landline</th>\n",
       "      <th>mobile</th>\n",
       "      <th>voicemail</th>\n",
       "    </tr>\n",
       "    <tr>\n",
       "      <th>network</th>\n",
       "      <th></th>\n",
       "      <th></th>\n",
       "      <th></th>\n",
       "      <th></th>\n",
       "    </tr>\n",
       "  </thead>\n",
       "  <tbody>\n",
       "    <tr>\n",
       "      <th>Meteor</th>\n",
       "      <td>0</td>\n",
       "      <td>0</td>\n",
       "      <td>87</td>\n",
       "      <td>0</td>\n",
       "    </tr>\n",
       "    <tr>\n",
       "      <th>Tesco</th>\n",
       "      <td>0</td>\n",
       "      <td>0</td>\n",
       "      <td>84</td>\n",
       "      <td>0</td>\n",
       "    </tr>\n",
       "    <tr>\n",
       "      <th>Three</th>\n",
       "      <td>0</td>\n",
       "      <td>0</td>\n",
       "      <td>215</td>\n",
       "      <td>0</td>\n",
       "    </tr>\n",
       "    <tr>\n",
       "      <th>Vodafone</th>\n",
       "      <td>0</td>\n",
       "      <td>0</td>\n",
       "      <td>215</td>\n",
       "      <td>0</td>\n",
       "    </tr>\n",
       "    <tr>\n",
       "      <th>data</th>\n",
       "      <td>150</td>\n",
       "      <td>0</td>\n",
       "      <td>0</td>\n",
       "      <td>0</td>\n",
       "    </tr>\n",
       "    <tr>\n",
       "      <th>landline</th>\n",
       "      <td>0</td>\n",
       "      <td>42</td>\n",
       "      <td>0</td>\n",
       "      <td>0</td>\n",
       "    </tr>\n",
       "    <tr>\n",
       "      <th>voicemail</th>\n",
       "      <td>0</td>\n",
       "      <td>0</td>\n",
       "      <td>0</td>\n",
       "      <td>27</td>\n",
       "    </tr>\n",
       "  </tbody>\n",
       "</table>\n",
       "</div>"
      ],
      "text/plain": [
       "network_type  data  landline  mobile  voicemail\n",
       "network                                        \n",
       "Meteor           0         0      87          0\n",
       "Tesco            0         0      84          0\n",
       "Three            0         0     215          0\n",
       "Vodafone         0         0     215          0\n",
       "data           150         0       0          0\n",
       "landline         0        42       0          0\n",
       "voicemail        0         0       0         27"
      ]
     },
     "execution_count": 89,
     "metadata": {},
     "output_type": "execute_result"
    }
   ],
   "source": [
    "# ho: there is no relation between network and network_type\n",
    "# ha : there is a relation between network and network_type\n",
    "data=pd.crosstab(df1[\"network\"],df1[\"network_type\"])\n",
    "\n",
    "data"
   ]
  },
  {
   "cell_type": "code",
   "execution_count": 90,
   "metadata": {},
   "outputs": [],
   "source": [
    "chi,p,df,arr=stats.chi2_contingency(data)"
   ]
  },
  {
   "cell_type": "code",
   "execution_count": 88,
   "metadata": {},
   "outputs": [
    {
     "data": {
      "text/plain": [
       "True"
      ]
     },
     "execution_count": 88,
     "metadata": {},
     "output_type": "execute_result"
    }
   ],
   "source": [
    "p<0.05"
   ]
  },
  {
   "cell_type": "code",
   "execution_count": null,
   "metadata": {},
   "outputs": [],
   "source": [
    "# We reject null hypothesis.There is a relation between network and network_type"
   ]
  },
  {
   "cell_type": "code",
   "execution_count": 75,
   "metadata": {},
   "outputs": [],
   "source": [
    "phone=pd.read_csv('phone.csv')"
   ]
  },
  {
   "cell_type": "code",
   "execution_count": 76,
   "metadata": {},
   "outputs": [],
   "source": [
    "call = phone[phone['item']=='call']['duration']\n",
    "sms = phone[phone['item']=='sms']['duration']\n",
    "data     = phone[phone['item']=='data']['duration']"
   ]
  },
  {
   "cell_type": "code",
   "execution_count": 77,
   "metadata": {},
   "outputs": [
    {
     "name": "stdout",
     "output_type": "stream",
     "text": [
      "Test Statistic: 3.4300976447008424\n",
      "p_value: 0.03285087780533987\n"
     ]
    }
   ],
   "source": [
    "test = stats.levene(call,sms,data)\n",
    "print('Test Statistic:',test[0])\n",
    "print('p_value:',test[1])\n"
   ]
  },
  {
   "cell_type": "code",
   "execution_count": null,
   "metadata": {},
   "outputs": [],
   "source": []
  }
 ],
 "metadata": {
  "kernelspec": {
   "display_name": "Python 3",
   "language": "python",
   "name": "python3"
  },
  "language_info": {
   "codemirror_mode": {
    "name": "ipython",
    "version": 3
   },
   "file_extension": ".py",
   "mimetype": "text/x-python",
   "name": "python",
   "nbconvert_exporter": "python",
   "pygments_lexer": "ipython3",
   "version": "3.8.5"
  }
 },
 "nbformat": 4,
 "nbformat_minor": 4
}
